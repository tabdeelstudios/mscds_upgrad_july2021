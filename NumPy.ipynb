{
 "cells": [
  {
   "cell_type": "markdown",
   "id": "4f2d2140",
   "metadata": {},
   "source": [
    "<h2>Python Libraries</h2>"
   ]
  },
  {
   "cell_type": "markdown",
   "id": "7b347704",
   "metadata": {},
   "source": [
    "<p>A library is a collection of scripts that can be reused in different projects.</p>"
   ]
  },
  {
   "cell_type": "markdown",
   "id": "be635a4c",
   "metadata": {},
   "source": [
    "<ul>\n",
    "    <li>Saves time for writing code</li>\n",
    "    <li>Libraries for everything - over 137,000 libraries</li>\n",
    "    <li>Data Science specific libraries</li>\n",
    "</ul>"
   ]
  },
  {
   "cell_type": "markdown",
   "id": "c770b219",
   "metadata": {},
   "source": [
    "<h3>The NumPy Library</h3>"
   ]
  },
  {
   "cell_type": "markdown",
   "id": "3fb6ea8d",
   "metadata": {},
   "source": [
    "<p>Numpy is the core library for scientific computing in Python.</p>\n",
    "<p>NumPy stands for Numerical Python. It has functions for working in domain of linear algebra, fourier transform, and matrices. Travis Oliphant created NumPy in 2005. It is an open source project which means we can use it for free.</p>"
   ]
  },
  {
   "cell_type": "code",
   "execution_count": 1,
   "id": "57bbd625",
   "metadata": {},
   "outputs": [],
   "source": [
    "#Installing NumPy\n",
    "pip install numpy"
   ]
  },
  {
   "cell_type": "code",
   "execution_count": null,
   "id": "a1dc3852",
   "metadata": {},
   "outputs": [],
   "source": [
    "#Importing NumPy\n",
    "import numpy as np"
   ]
  },
  {
   "cell_type": "markdown",
   "id": "83b45414",
   "metadata": {},
   "source": [
    "<h3>1. Creating Arrays in NumPy</h3>"
   ]
  },
  {
   "cell_type": "code",
   "execution_count": 9,
   "id": "4a63c3c4",
   "metadata": {},
   "outputs": [
    {
     "name": "stdout",
     "output_type": "stream",
     "text": [
      "[16 17 18]\n",
      "\n",
      "\n",
      "[[1 2 3]\n",
      " [4 5 6]]\n",
      "\n",
      "\n",
      "[[[ 1  2  3]\n",
      "  [ 4  5  6]]\n",
      "\n",
      " [[ 7  8  9]\n",
      "  [10 11 12]]]\n"
     ]
    }
   ],
   "source": [
    "#  Creating 1D array\n",
    "array = np.array([16, 17, 18])\n",
    "print(array)\n",
    "print('\\n')\n",
    "\n",
    "#  Creating 2D array\n",
    "array = np.array([                    \n",
    "                   [1,2,3],\n",
    "                   [4,5,6]\n",
    "                ])\n",
    "print(array)\n",
    "print('\\n')\n",
    "\n",
    "#  Creating 3D array\n",
    "array = np.array([\n",
    "                   [\n",
    "                     [1,2,3],\n",
    "                     [4,5,6]\n",
    "                   ],\n",
    "                   [\n",
    "                     [7,8,9],\n",
    "                     [10,11,12],\n",
    "                   ]\n",
    "                ])\n",
    "print(array)"
   ]
  },
  {
   "cell_type": "markdown",
   "id": "caa24645",
   "metadata": {},
   "source": [
    "<h3>2. Search for the maximum and minimum element in the given array</h3>"
   ]
  },
  {
   "cell_type": "code",
   "execution_count": 63,
   "id": "30715286",
   "metadata": {},
   "outputs": [
    {
     "name": "stdout",
     "output_type": "stream",
     "text": [
      "[[ 0  1  2  3  4]\n",
      " [ 5  6  7  8  9]\n",
      " [10 11 12 13 14]\n",
      " [15 16 17 18 19]\n",
      " [20 21 22 23 24]\n",
      " [25 26 27 28 29]]\n",
      "\n",
      "29\n",
      "\n",
      "[4 4 4 4 4 4]\n",
      "\n",
      "[5 5 5 5 5]\n"
     ]
    }
   ],
   "source": [
    "# Creating an array\n",
    "array = np.arange(30).reshape(6, 5)\n",
    "print(array)\n",
    "print()\n",
    "\n",
    "# Working on the entire array (no axis)\n",
    "print(np.argmax(array))\n",
    "print()\n",
    "\n",
    "# Working on each row (axis = 1)\n",
    "print(np.argmax(array, axis=1))\n",
    "print()\n",
    "\n",
    "# Working on each column (axis = 0)\n",
    "print(np.argmax(array, axis=0))"
   ]
  },
  {
   "cell_type": "markdown",
   "id": "864fd1eb",
   "metadata": {},
   "source": [
    "<h3>3. Sort the elements in the given array</h3>"
   ]
  },
  {
   "cell_type": "code",
   "execution_count": 21,
   "id": "3a1b53b4",
   "metadata": {},
   "outputs": [
    {
     "name": "stdout",
     "output_type": "stream",
     "text": [
      "[[ 1  3  6]\n",
      " [17 13 12]\n",
      " [15 26 76]]\n",
      "\n",
      "[[ 1  3  6]\n",
      " [12 13 17]\n",
      " [15 26 76]]\n",
      "\n",
      "[[ 1  3  6]\n",
      " [12 13 17]\n",
      " [15 26 76]]\n",
      "\n",
      "[[ 1  3  6]\n",
      " [15 13 12]\n",
      " [17 26 76]]\n"
     ]
    }
   ],
   "source": [
    "array = np.array([\n",
    "    [1, 3, 6],\n",
    "    [17, 13, 12],\n",
    "    [15, 26, 76]\n",
    "])\n",
    "print(array)\n",
    "print()\n",
    "\n",
    "# Sorting the entire array\n",
    "print(np.sort(array))\n",
    "print()\n",
    "\n",
    "# Sort the array row-wise\n",
    "print(np.sort(array, axis=1))\n",
    "print()\n",
    "\n",
    "# Sort the array column-wise\n",
    "print(np.sort(array, axis=0))"
   ]
  },
  {
   "cell_type": "markdown",
   "id": "28c59513",
   "metadata": {},
   "source": [
    "<h3>4. Finding the mean and median of every array in a list</h3>"
   ]
  },
  {
   "cell_type": "code",
   "execution_count": 27,
   "id": "0d501b21",
   "metadata": {},
   "outputs": [
    {
     "name": "stdout",
     "output_type": "stream",
     "text": [
      "[5.5, 30.6, 34.0]\n",
      "[5.5, 25.0, 23.0]\n"
     ]
    }
   ],
   "source": [
    "import numpy as np\n",
    "\n",
    "list = [\n",
    "    np.array([3, 2, 8, 9]),\n",
    "    np.array([4, 12, 34, 25, 78]),\n",
    "    np.array([23, 12, 67])\n",
    "]\n",
    "\n",
    "mean = []\n",
    "median = []\n",
    "for i in range(len(list)):\n",
    "    mean.append(np.mean(list[i]))\n",
    "    median.append(np.median(list[i]))\n",
    "print(mean)\n",
    "print(median)"
   ]
  },
  {
   "cell_type": "markdown",
   "id": "5d46faec",
   "metadata": {},
   "source": [
    "<h3>5. Extract items that satisfy a given condition from an array</h3>"
   ]
  },
  {
   "cell_type": "code",
   "execution_count": 29,
   "id": "94a4e87a",
   "metadata": {},
   "outputs": [
    {
     "data": {
      "text/plain": [
       "array([1, 3, 5, 7, 9])"
      ]
     },
     "execution_count": 29,
     "metadata": {},
     "output_type": "execute_result"
    }
   ],
   "source": [
    "# Declaring an array\n",
    "arr = np.array([0, 1, 2, 3, 4, 5, 6, 7, 8, 9])\n",
    "\n",
    "# Extracting specific items\n",
    "arr[arr % 2 == 1]"
   ]
  },
  {
   "cell_type": "markdown",
   "id": "5a70ed9c",
   "metadata": {},
   "source": [
    "<hr>"
   ]
  },
  {
   "cell_type": "markdown",
   "id": "5862dc5e",
   "metadata": {},
   "source": [
    "<h3>Example #1 : Analysing Student Marks</h3>"
   ]
  },
  {
   "cell_type": "code",
   "execution_count": 61,
   "id": "cb2f780d",
   "metadata": {},
   "outputs": [],
   "source": [
    "marks = np.array([100, 99, 89, 79, 54, 66, 64, 36, 58, 90, 98, 76, 46, 67, 89, 92])"
   ]
  },
  {
   "cell_type": "code",
   "execution_count": 64,
   "id": "b585d494",
   "metadata": {},
   "outputs": [
    {
     "name": "stdout",
     "output_type": "stream",
     "text": [
      "100\n"
     ]
    }
   ],
   "source": [
    "#1. Find the highest marks scored by any student\n",
    "print(np.max(marks))"
   ]
  },
  {
   "cell_type": "code",
   "execution_count": 65,
   "id": "1f5a6889",
   "metadata": {},
   "outputs": [
    {
     "name": "stdout",
     "output_type": "stream",
     "text": [
      "75.1875\n"
     ]
    }
   ],
   "source": [
    "#2. Find the average passing marks\n",
    "print(np.average(marks))"
   ]
  },
  {
   "cell_type": "code",
   "execution_count": 69,
   "id": "a12966cb",
   "metadata": {},
   "outputs": [
    {
     "name": "stdout",
     "output_type": "stream",
     "text": [
      "[ True  True  True  True False  True  True False False  True  True  True\n",
      " False  True  True  True]\n",
      "\n",
      "12\n"
     ]
    }
   ],
   "source": [
    "#3. Find the number of students who scored more than 60% marks\n",
    "occurrences_more_than_60 = marks > 60\n",
    "print(occurrences_more_than_60)\n",
    "print()\n",
    "\n",
    "total_count = occurrences_more_than_60.sum()\n",
    "print(total_count)"
   ]
  },
  {
   "cell_type": "code",
   "execution_count": 90,
   "id": "84a8ad24",
   "metadata": {},
   "outputs": [
    {
     "data": {
      "image/png": "[encoded data removed]",
      "text/plain": [
       "<Figure size 432x288 with 1 Axes>"
      ]
     },
     "metadata": {
      "needs_background": "light"
     },
     "output_type": "display_data"
    }
   ],
   "source": [
    "import matplotlib.pyplot as plt       \n",
    "plt.plot(marks)\n",
    "plt.show()"
   ]
  },
  {
   "cell_type": "markdown",
   "id": "d02de653",
   "metadata": {},
   "source": [
    "<h3>Example #2 : Analysing a Cricketer's Runs</h3>"
   ]
  },
  {
   "cell_type": "code",
   "execution_count": 71,
   "id": "72a687ea",
   "metadata": {},
   "outputs": [],
   "source": [
    "runs = np.array([0, 10, 26, 57, 100, 25, 99, 76, 54, 156, 65, 15, 1, 89, 34])"
   ]
  },
  {
   "cell_type": "code",
   "execution_count": 72,
   "id": "eac982c7",
   "metadata": {},
   "outputs": [
    {
     "name": "stdout",
     "output_type": "stream",
     "text": [
      "53.8\n"
     ]
    }
   ],
   "source": [
    "#1. Find the batting average\n",
    "print(np.average(runs))"
   ]
  },
  {
   "cell_type": "code",
   "execution_count": 78,
   "id": "39e26372",
   "metadata": {},
   "outputs": [
    {
     "name": "stdout",
     "output_type": "stream",
     "text": [
      "[False False False False  True False False False False  True False False\n",
      " False False False]\n",
      "\n",
      "2\n"
     ]
    }
   ],
   "source": [
    "#2. Find the number of centuries\n",
    "no_of_centuries = runs >= 100\n",
    "print(no_of_centuries)\n",
    "print()\n",
    "\n",
    "total_centuries = no_of_centuries.sum()\n",
    "print(total_centuries)"
   ]
  },
  {
   "cell_type": "code",
   "execution_count": 87,
   "id": "738351cc",
   "metadata": {},
   "outputs": [
    {
     "name": "stdout",
     "output_type": "stream",
     "text": [
      "15\n",
      "\n",
      "[65 15  1 89 34]\n"
     ]
    }
   ],
   "source": [
    "#3. Show the runs from 5 previous matches\n",
    "print(len(runs))\n",
    "print()\n",
    "print(runs[10:15])"
   ]
  },
  {
   "cell_type": "code",
   "execution_count": 89,
   "id": "ec88a6f3",
   "metadata": {},
   "outputs": [
    {
     "data": {
      "image/png": "[encoded data removed]",
      "text/plain": [
       "<Figure size 432x288 with 1 Axes>"
      ]
     },
     "metadata": {
      "needs_background": "light"
     },
     "output_type": "display_data"
    }
   ],
   "source": [
    "import matplotlib.pyplot as plt       \n",
    "plt.plot(runs)\n",
    "plt.show()"
   ]
  }
 ],
 "metadata": {
  "kernelspec": {
   "display_name": "Python 3 (ipykernel)",
   "language": "python",
   "name": "python3"
  },
  "language_info": {
   "codemirror_mode": {
    "name": "ipython",
    "version": 3
   },
   "file_extension": ".py",
   "mimetype": "text/x-python",
   "name": "python",
   "nbconvert_exporter": "python",
   "pygments_lexer": "ipython3",
   "version": "3.8.3"
  }
 },
 "nbformat": 4,
 "nbformat_minor": 5
}
